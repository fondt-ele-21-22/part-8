{
 "cells": [
  {
   "cell_type": "markdown",
   "metadata": {
    "slideshow": {
     "slide_type": "subslide"
    }
   },
   "source": [
    "## Esercizio: Controllo di Frenata\n",
    "\n",
    "__Si vuole controllare l'arresto di un carrello automatico__\n",
    "\n",
    "Il profilo di velocità in frenata deve presentarsi come segue:\n",
    "\n",
    "<center>\n",
    "<img src=\"assets/brake.png\" width=\"35%\"/>\n",
    "</center>\n",
    "\n",
    "* La coordinata $t$ rappresenta il tempo\n",
    "* La coordinata $v$ rappresenta la velocità\n",
    "\n",
    "Possiamo usare la curva per programmare una centralina di controllo"
   ]
  },
  {
   "cell_type": "markdown",
   "metadata": {
    "slideshow": {
     "slide_type": "subslide"
    }
   },
   "source": [
    "## Esercizio: Controllo di Frenata\n",
    "\n",
    "__Si vuole controllare l'arresto di un carrello automatico__\n",
    "\n",
    "* Il profilo è dato da un polinomio, di grado da determinare\n",
    "* La velocità iniziale e finale ed il tempo di frenata $t_1$ sono noti\n",
    "* L'istante iniziale $t_0$ può essere assunto nullo, i.e. $t_0 = 0$\n",
    "* Si richiede che la derivata della velocità in $t_1$ sia nulla\n",
    "* Lo _spazio di frenata $S$_ deve essere pari ad un valore $s_1$, dove: \n",
    "\n",
    "$$S = \\int_{t_0}^{t_1} f(t) \\, dt$$\n",
    "\n",
    "* ...Che per un polinomio può essere calcolato facilmente in forma simbolia\n",
    "* Soprattuto visto che assumiamo $t_0 = 0$"
   ]
  },
  {
   "cell_type": "markdown",
   "metadata": {
    "slideshow": {
     "slide_type": "subslide"
    }
   },
   "source": [
    "## Esercizio: Controllo di Frenata\n",
    "\n",
    "**Nel modulo `sol.brake`, si definisca la funzione:**\n",
    "\n",
    "```python\n",
    "def fit_curve(t0, t1, v0, v1, s1)\n",
    "```\n",
    "\n",
    "* Che restituisca le variabili necessarie a rappresentare i coefficienti\n",
    "\n",
    "**Si collaudi la classe nella cella seguente, utilizzando i valori suggeriti**"
   ]
  },
  {
   "cell_type": "code",
   "execution_count": 1,
   "metadata": {},
   "outputs": [
    {
     "name": "stdout",
     "output_type": "stream",
     "text": [
      "alpha3 = -0.49999999999999994, alpha2 = 3.3749999999999996, alpha1 = -7.499999999999999, alpha0 = 5.5\n"
     ]
    }
   ],
   "source": [
    "%load_ext autoreload\n",
    "%autoreload 2\n",
    "\n",
    "from sol import brake\n",
    "\n",
    "# Dati del problema\n",
    "t0, t1 = 0, 2\n",
    "v0, v1 = 5.5, 0\n",
    "s1 = 3\n",
    "\n",
    "alpha3, alpha2, alpha1, alpha0 = brake.fit_curve(t0, t1, v0, v1, s1)\n",
    "print(f'alpha3 = {alpha3}, alpha2 = {alpha2}, alpha1 = {alpha1}, alpha0 = {alpha0}')"
   ]
  },
  {
   "cell_type": "markdown",
   "metadata": {
    "slideshow": {
     "slide_type": "subslide"
    }
   },
   "source": [
    "## Esercizio: Controllo di Frenata\n",
    "\n",
    "**Nel modulo `sol.brake`, si definisca la funzione:**\n",
    "\n",
    "```python\n",
    "def draw_curve(alpha_3, alpha_2, alpha_1, alpha_0, t0, t1)\n",
    "```\n",
    "\n",
    "* Che disegni la curva\n",
    "* ...E che mostra come fossere necessari 4 coefficienti\n",
    "\n",
    "**Nella cella seguente si scriva una soluzione completa del problema**\n",
    "\n",
    "* Si ottengano i coefficienti della curva\n",
    "* ...E si proceda a disegnarla"
   ]
  },
  {
   "cell_type": "code",
   "execution_count": 2,
   "metadata": {},
   "outputs": [
    {
     "name": "stdout",
     "output_type": "stream",
     "text": [
      "The autoreload extension is already loaded. To reload it, use:\n",
      "  %reload_ext autoreload\n",
      "alpha3 = -0.49999999999999994, alpha2 = 3.3749999999999996, alpha1 = -7.499999999999999, alpha0 = 5.5\n"
     ]
    },
    {
     "data": {
      "image/png": "[encoded data removed]",
      "text/plain": [
       "<Figure size 1440x360 with 1 Axes>"
      ]
     },
     "metadata": {
      "needs_background": "light"
     },
     "output_type": "display_data"
    }
   ],
   "source": [
    "%load_ext autoreload\n",
    "%autoreload 2\n",
    "\n",
    "from sol import brake\n",
    "\n",
    "# Dati del problema\n",
    "t0, t1 = 0, 2\n",
    "v0, v1 = 5.5, 0\n",
    "s1 = 3\n",
    "\n",
    "alpha3, alpha2, alpha1, alpha0 = brake.fit_curve(t0, t1, v0, v1, s1)\n",
    "print(f'alpha3 = {alpha3}, alpha2 = {alpha2}, alpha1 = {alpha1}, alpha0 = {alpha0}')\n",
    "brake.draw_curve(alpha3, alpha2, alpha1, alpha0, t0, t1)"
   ]
  }
 ],
 "metadata": {
  "celltoolbar": "Slideshow",
  "kernelspec": {
   "display_name": "Python 3 (ipykernel)",
   "language": "python",
   "name": "python3"
  },
  "language_info": {
   "codemirror_mode": {
    "name": "ipython",
    "version": 3
   },
   "file_extension": ".py",
   "mimetype": "text/x-python",
   "name": "python",
   "nbconvert_exporter": "python",
   "pygments_lexer": "ipython3",
   "version": "3.9.5"
  },
  "rise": {
   "center": false,
   "enable_chalkboard": true,
   "transition": "fade"
  }
 },
 "nbformat": 4,
 "nbformat_minor": 4
}
