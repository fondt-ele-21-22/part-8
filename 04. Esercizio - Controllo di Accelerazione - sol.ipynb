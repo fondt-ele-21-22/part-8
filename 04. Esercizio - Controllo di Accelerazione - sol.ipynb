{
 "cells": [
  {
   "cell_type": "markdown",
   "metadata": {
    "slideshow": {
     "slide_type": "subslide"
    }
   },
   "source": [
    "## Esercizio: Controllo di Accelarazione\n",
    "\n",
    "__Si vuole controllare l'accelerazione di un carrello automatico__\n",
    "\n",
    "Il profilo di velocità in accelerazione deve presentarsi come segue:\n",
    "\n",
    "<center>\n",
    "<img src=\"assets/acceleration.png\" width=\"40%\"/>\n",
    "</center>\n",
    "\n",
    "* La coordinata $t$ rappresenta il tempo\n",
    "* La coordinata $v$ rappresenta la velocità\n",
    "\n",
    "Curve di questo tipo si utilizzano nelle centraline di controllo di auto e moto"
   ]
  },
  {
   "cell_type": "markdown",
   "metadata": {
    "slideshow": {
     "slide_type": "subslide"
    }
   },
   "source": [
    "## Esercizio: Controllo di Accelarazione\n",
    "\n",
    "__Si vuole controllare l'accelerazione di un carrello automatico__\n",
    "\n",
    "* Il profilo deve seguire un andamento polinomiale\n",
    "    * Il grado del polinomio è _da determinare_\n",
    "    * Servirà _un coefficiente per ogni condizione specificata_\n",
    "* La velocità iniziale e finale ed il tempo di accelerazione $t_1$ sono noti\n",
    "  - I.e. sono rispettivamente $v_0$ e $v_1$\n",
    "* Perché le variazioni non siano troppo brusca...\n",
    "* ...Si richiede che la derivata della velocità in $t_0$ e $t_1$ sia nulla"
   ]
  },
  {
   "cell_type": "markdown",
   "metadata": {
    "slideshow": {
     "slide_type": "subslide"
    }
   },
   "source": [
    "## Esercizio: Controllo di Accelarazione\n",
    "\n",
    "**Nel modulo `sol.acceleration`, si definisca la funzione:**\n",
    "\n",
    "```python\n",
    "def fit_curve(t0, t1, v0, v1)\n",
    "```\n",
    "\n",
    "* Che restituisca le variabili necessarie a rappresentare i coefficienti\n",
    "\n",
    "**Si collaudi la classe nella cella seguente, utilizzando i valori suggeriti**"
   ]
  },
  {
   "cell_type": "code",
   "execution_count": 12,
   "metadata": {},
   "outputs": [
    {
     "name": "stdout",
     "output_type": "stream",
     "text": [
      "The autoreload extension is already loaded. To reload it, use:\n",
      "  %reload_ext autoreload\n",
      "alpha3 = -0.4074074074074074, alpha2 = 1.8333333333333333, alpha1 = 0.0, alpha0 = 0.0\n"
     ]
    }
   ],
   "source": [
    "%load_ext autoreload\n",
    "%autoreload 2\n",
    "\n",
    "from sol import acceleration\n",
    "\n",
    "# Dati del problema\n",
    "t0, t1 = 0, 3\n",
    "v0, v1 = 0, 5.5\n",
    "\n",
    "alpha3, alpha2, alpha1, alpha0 = acceleration.fit_curve(t0, t1, v0, v1)\n",
    "print(f'alpha3 = {alpha3}, alpha2 = {alpha2}, alpha1 = {alpha1}, alpha0 = {alpha0}')"
   ]
  },
  {
   "cell_type": "markdown",
   "metadata": {
    "slideshow": {
     "slide_type": "subslide"
    }
   },
   "source": [
    "## Esercizio: Controllo di Accelarazione\n",
    "\n",
    "**Nel modulo `sol.acceleration`, si definisca la funzione:**\n",
    "\n",
    "```python\n",
    "def draw_curve(alpha_3, alpha_2, alpha_1, alpha_0, t0, t1)\n",
    "```\n",
    "\n",
    "* Che disegni la curva\n",
    "* ...E che mostra come fossere necessari 4 coefficienti\n",
    "\n",
    "**Nella cella seguente si scriva una soluzione completa del problema**\n",
    "\n",
    "* Si ottengano i coefficienti della curva\n",
    "* ...E si proceda a disegnarla"
   ]
  },
  {
   "cell_type": "code",
   "execution_count": 13,
   "metadata": {},
   "outputs": [
    {
     "name": "stdout",
     "output_type": "stream",
     "text": [
      "The autoreload extension is already loaded. To reload it, use:\n",
      "  %reload_ext autoreload\n",
      "alpha3 = -0.4074074074074074, alpha2 = 1.8333333333333333, alpha1 = 0.0, alpha0 = 0.0\n"
     ]
    },
    {
     "data": {
      "image/png": "[encoded data removed]",
      "text/plain": [
       "<Figure size 1440x360 with 1 Axes>"
      ]
     },
     "metadata": {
      "needs_background": "light"
     },
     "output_type": "display_data"
    }
   ],
   "source": [
    "%load_ext autoreload\n",
    "%autoreload 2\n",
    "\n",
    "from sol import acceleration\n",
    "\n",
    "# Dati del problema\n",
    "t0, t1 = 0, 3\n",
    "v0, v1 = 0, 5.5\n",
    "\n",
    "alpha3, alpha2, alpha1, alpha0 = acceleration.fit_curve(t0, t1, v0, v1)\n",
    "print(f'alpha3 = {alpha3}, alpha2 = {alpha2}, alpha1 = {alpha1}, alpha0 = {alpha0}')\n",
    "acceleration.draw_curve(alpha3, alpha2, alpha1, alpha0, t0, t1)"
   ]
  }
 ],
 "metadata": {
  "celltoolbar": "Slideshow",
  "kernelspec": {
   "display_name": "Python 3 (ipykernel)",
   "language": "python",
   "name": "python3"
  },
  "language_info": {
   "codemirror_mode": {
    "name": "ipython",
    "version": 3
   },
   "file_extension": ".py",
   "mimetype": "text/x-python",
   "name": "python",
   "nbconvert_exporter": "python",
   "pygments_lexer": "ipython3",
   "version": "3.9.5"
  },
  "rise": {
   "center": false,
   "enable_chalkboard": true,
   "transition": "fade"
  }
 },
 "nbformat": 4,
 "nbformat_minor": 4
}
