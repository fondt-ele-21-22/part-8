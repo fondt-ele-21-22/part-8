{
 "cells": [
  {
   "cell_type": "markdown",
   "metadata": {
    "slideshow": {
     "slide_type": "slide"
    }
   },
   "source": [
    "# Problemi di Progettazione di Curve"
   ]
  },
  {
   "cell_type": "markdown",
   "metadata": {
    "slideshow": {
     "slide_type": "subslide"
    }
   },
   "source": [
    "## Problemi di Progettazione di Curve\n",
    "\n",
    "**Si vuole progettare una arcata a ridosso di una parete verticale**\n",
    "\n",
    "<center>\n",
    "<img src=\"assets/arc.png\" width=40%/>\n",
    "</center>\n",
    "\n",
    "La curva che descrive l'arcata:\n",
    "\n",
    "* Deve essere _ancorata ad un punto noto_ $(x_0, y_0)$ sulla parete\n",
    "* Deve essere _ancorata ad un punto noto_ $(x_2, y_2)$ a terra\n",
    "* Deve _raggiungere l'altezza massima_ per $x = x_1$ (con $x_1$ noto)"
   ]
  },
  {
   "cell_type": "markdown",
   "metadata": {
    "slideshow": {
     "slide_type": "subslide"
    }
   },
   "source": [
    "## Problemi di Progettazione di Curve\n",
    "\n",
    "**Un approccio: trattiamo la curva come una funzione $f(x)$**\n",
    "\n",
    "In questo modo possiamo _tradurre le condizioni in equazioni:_\n",
    "\n",
    "* Deve essere ancorata ad un punto noto $(x_0, y_0)$ sulla parete\n",
    "\n",
    "$$f(x_0) = y_0$$\n",
    "\n",
    "* Deve essere ancorata ad un punto noto $(x_2, y_2)$ a terra\n",
    "\n",
    "$$f(x_2) = y_2$$\n",
    "\n",
    "* Deve raggiungere l'altezza massima per $x = x_1$ (con $x_1$ noto)\n",
    "\n",
    "$$f'(x_1) = y_1$$\n",
    "\n",
    "Così come sono ci dicono ben poco..."
   ]
  },
  {
   "cell_type": "markdown",
   "metadata": {
    "slideshow": {
     "slide_type": "subslide"
    }
   },
   "source": [
    "## Problemi di Progettazione di Curve\n",
    "\n",
    "**Ci serve una assunzione sulla classe della funzione $f(x)$**\n",
    "\n",
    "Per esempio possiamo assumere che $f(x)$ sia polinomiale, i.e.:\n",
    "\n",
    "$$f(x) = \\sum_{i=0}^n \\alpha_i x^i$$\n",
    "\n",
    "Le nostre condizioni allora diventano:\n",
    "\n",
    "\\begin{align}\n",
    "& \\text{passaggio per } (x_0, y_0) && \\sum_{i=0}^n \\alpha_i x_0^i = y_0 \\\\\n",
    "& \\text{passaggio per } (x_1, y_1) && \\sum_{i=0}^n \\alpha_i x_2^i = y_2 \\\\\n",
    "& \\text{annullamento di } f'(x_1) && \\sum_{i=1}^n i \\alpha_i x_1^{i-1} = 0\n",
    "\\end{align}"
   ]
  },
  {
   "cell_type": "markdown",
   "metadata": {
    "slideshow": {
     "slide_type": "subslide"
    }
   },
   "source": [
    "## Problemi di Progettazione di Curve\n",
    "\n",
    "**Ci siamo quasi! Guardiamole meglio:**\n",
    "\n",
    "\\begin{align}\n",
    "& \\text{passaggio per } (x_0, y_0) && \\sum_{i=0}^n \\alpha_i x_0^i = y_0 \\\\\n",
    "& \\text{passaggio per } (x_1, y_1) && \\sum_{i=0}^n \\alpha_i x_2^i = y_2 \\\\\n",
    "& \\text{annullamento di } f'(x_1) && \\sum_{i=1}^n i \\alpha_i x_1^{i-1} = 0\n",
    "\\end{align}\n",
    "\n",
    "* Le incognite sono i _parametri della funzione_ $\\alpha_i$ e non le $x$!\n",
    "* Abbiamo tre condizioni, quindi ci servono tre variabili\n",
    "  - i.e. $\\alpha_0, \\alpha_1, \\alpha_2$ $\\Rightarrow$ secondo grado"
   ]
  },
  {
   "cell_type": "markdown",
   "metadata": {
    "slideshow": {
     "slide_type": "subslide"
    }
   },
   "source": [
    "## Problemi di Progettazione di Curve\n",
    "\n",
    "**In questo modo otteniamo il sistema di equazioni:**\n",
    "\n",
    "\\begin{align}\n",
    "\\alpha_2 x_0^2 + \\alpha_1 x_0 + \\alpha_0 &= y_0 \\\\\n",
    "\\alpha_2 x_2^2 + \\alpha_1 x_2 + \\alpha_0 &= y_2 \\\\\n",
    "2 \\alpha_2 x_1 + \\alpha_1 &= 0\n",
    "\\end{align}\n",
    "\n",
    "* Che è _lineare_ nelle incognite $\\alpha_2, \\alpha_1, \\alpha_0$\n",
    "\n",
    "**La tecnica vista è un metodo generale per progettare curve:**\n",
    "\n",
    "* Si ipotizza una struttura per la curva da costruire (e.g. polinomio)\n",
    "* Si determina il numero di gradi di libertà (coefficienti) necessari\n",
    "* Si traducono i vincoli del problema in equazioni\n",
    "* Si risolvono le equazioni per determinare i parametri"
   ]
  },
  {
   "cell_type": "markdown",
   "metadata": {
    "slideshow": {
     "slide_type": "subslide"
    }
   },
   "source": [
    "## Soluzione di Sistemi Lineari\n",
    "\n",
    "**Come possiamo risolvere il nostro sistema?**\n",
    "\n",
    "\\begin{align}\n",
    "\\alpha_2 x_0^2 + \\alpha_1 x_0 + \\alpha_0 &= y_0 \\\\\n",
    "\\alpha_2 x_2^2 + \\alpha_1 x_2 + \\alpha_0 &= y_2 \\\\\n",
    "2 \\alpha_2 x_1 + \\alpha_1 &= 0\n",
    "\\end{align}\n",
    "\n",
    "Ci sono una varietà di metodi disponibili:\n",
    "\n",
    "* E.g. [eliminazione di Gauss](https://en.wikipedia.org/wiki/Gaussian_elimination)\n",
    "* E.g. [Singular Value Decomposition](https://en.wikipedia.org/wiki/Singular_value_decomposition)\n",
    "\n",
    "Possiamo pensare di eseguirli a mano\n",
    "\n",
    "* ...Oppure possiamo usare l'_implementazione fornita da `numpy`_"
   ]
  },
  {
   "cell_type": "markdown",
   "metadata": {
    "slideshow": {
     "slide_type": "subslide"
    }
   },
   "source": [
    "## Soluzione di Sistemi Lineari\n",
    "\n",
    "**Il primo passo è formulare il sistema in _forma matriciale_**\n",
    "\n",
    "\\begin{align}\n",
    "\\alpha_2 x_0^2 + \\alpha_1 x_0 + \\alpha_0 &= y_0 \\\\\n",
    "\\alpha_2 x_2^2 + \\alpha_1 x_2 + \\alpha_0 &= y_2 \\\\\n",
    "2 \\alpha_2 x_1 + \\alpha_1 &= 0\n",
    "\\end{align}\n",
    "\n",
    "Nel nostro caso otteniamo:\n",
    "\n",
    "$$\n",
    "\\left(\\begin{array}{ccc}\n",
    "x_0^2 & x_0 & 1 \\\\\n",
    "x_2^2 & x_2 & 1 \\\\\n",
    "2 x_1 & 1 & 0\n",
    "\\end{array}\\right)\n",
    "\\left(\\begin{array}{c}\n",
    "\\alpha_2 \\\\\n",
    "\\alpha_1 \\\\\n",
    "\\alpha_0 \\\\\n",
    "\\end{array}\\right)\n",
    "=\n",
    "\\left(\\begin{array}{c}\n",
    "y_0 \\\\\n",
    "y_2 \\\\\n",
    "0 \\\\\n",
    "\\end{array}\\right)\n",
    "$$"
   ]
  },
  {
   "cell_type": "markdown",
   "metadata": {
    "slideshow": {
     "slide_type": "subslide"
    }
   },
   "source": [
    "## Soluzione di Sistemi Lineari\n",
    "\n",
    "**Quindi costruiamo degli array corrispondenti a:**\n",
    "\n",
    "* La matrice dei coefficienti (di solito denotata con $A$)\n",
    "* La colonna dei termini noti (di solito denotata con $b$)\n",
    "\n",
    "Di nuovo, nel nostro caso abbiamo:\n",
    "\n",
    "$$\n",
    "A = \\left(\\begin{array}{ccc}\n",
    "x_0^2 & x_0 & 1 \\\\\n",
    "x_2^2 & x_2 & 1 \\\\\n",
    "2 x_1 & 1 & 0\n",
    "\\end{array}\\right)\n",
    "\\left(\\begin{array}{c}\n",
    "\\alpha_2 \\\\\n",
    "\\alpha_1 \\\\\n",
    "\\alpha_0 \\\\\n",
    "\\end{array}\\right)\n",
    "\\quad\\quad b =\n",
    "\\left(\\begin{array}{c}\n",
    "y_0 \\\\\n",
    "y_2 \\\\\n",
    "0 \\\\\n",
    "\\end{array}\\right)\n",
    "$$"
   ]
  },
  {
   "cell_type": "markdown",
   "metadata": {
    "slideshow": {
     "slide_type": "subslide"
    }
   },
   "source": [
    "## Soluzione di Sistemi Lineari\n",
    "\n",
    "**Per esempio, possiamo usare:**"
   ]
  },
  {
   "cell_type": "code",
   "execution_count": 5,
   "metadata": {},
   "outputs": [
    {
     "name": "stdout",
     "output_type": "stream",
     "text": [
      "A = \n",
      "[[ 0  0  1]\n",
      " [36  6  1]\n",
      " [ 4  1  0]]\n",
      "b = \n",
      "[3 0 0]\n"
     ]
    }
   ],
   "source": [
    "import numpy as np\n",
    "\n",
    "x0, x1, x2 = 0, 2, 6\n",
    "y0, y2 = 3, 0\n",
    "\n",
    "A = np.array([[x0**2, x0, 1],\n",
    "              [x2**2, x2, 1],\n",
    "              [2*x1, 1, 0]])\n",
    "\n",
    "b = np.array([y0, y2, 0])\n",
    "print('A = ')\n",
    "print(A)\n",
    "print('b = ')\n",
    "print(b)"
   ]
  },
  {
   "cell_type": "markdown",
   "metadata": {
    "slideshow": {
     "slide_type": "subslide"
    }
   },
   "source": [
    "## Soluzione di Sistemi Lineari\n",
    "\n",
    "**Per risolvere il sistema possiamo usare la funzione `numpy.linalg.solve`**"
   ]
  },
  {
   "cell_type": "code",
   "execution_count": 6,
   "metadata": {
    "scrolled": true
   },
   "outputs": [
    {
     "name": "stdout",
     "output_type": "stream",
     "text": [
      "Help on function solve in module numpy.linalg:\n",
      "\n",
      "solve(a, b)\n",
      "    Solve a linear matrix equation, or system of linear scalar equations.\n",
      "    \n",
      "    Computes the \"exact\" solution, `x`, of the well-determined, i.e., full\n",
      "    rank, linear matrix equation `ax = b`.\n",
      "    \n",
      "    Parameters\n",
      "    ----------\n",
      "    a : (..., M, M) array_like\n",
      "        Coefficient matrix.\n",
      "    b : {(..., M,), (..., M, K)}, array_like\n",
      "        Ordinate or \"dependent variable\" values.\n",
      "    \n",
      "    Returns\n",
      "    -------\n",
      "    x : {(..., M,), (..., M, K)} ndarray\n",
      "        Solution to the system a x = b.  Returned shape is identical to `b`.\n",
      "    \n",
      "    Raises\n",
      "    ------\n",
      "    LinAlgError\n",
      "        If `a` is singular or not square.\n",
      "    \n",
      "    See Also\n",
      "    --------\n",
      "    scipy.linalg.solve : Similar function in SciPy.\n",
      "    \n",
      "    Notes\n",
      "    -----\n",
      "    \n",
      "    .. versionadded:: 1.8.0\n",
      "    \n",
      "    Broadcasting rules apply, see the `numpy.linalg` documentation for\n",
      "    details.\n",
      "    \n",
      "    The solutions are computed using LAPACK routine ``_gesv``.\n",
      "    \n",
      "    `a` must be square and of full-rank, i.e., all rows (or, equivalently,\n",
      "    columns) must be linearly independent; if either is not true, use\n",
      "    `lstsq` for the least-squares best \"solution\" of the\n",
      "    system/equation.\n",
      "    \n",
      "    References\n",
      "    ----------\n",
      "    .. [1] G. Strang, *Linear Algebra and Its Applications*, 2nd Ed., Orlando,\n",
      "           FL, Academic Press, Inc., 1980, pg. 22.\n",
      "    \n",
      "    Examples\n",
      "    --------\n",
      "    Solve the system of equations ``x0 + 2 * x1 = 1`` and ``3 * x0 + 5 * x1 = 2``:\n",
      "    \n",
      "    >>> a = np.array([[1, 2], [3, 5]])\n",
      "    >>> b = np.array([1, 2])\n",
      "    >>> x = np.linalg.solve(a, b)\n",
      "    >>> x\n",
      "    array([-1.,  1.])\n",
      "    \n",
      "    Check that the solution is correct:\n",
      "    \n",
      "    >>> np.allclose(np.dot(a, x), b)\n",
      "    True\n",
      "\n"
     ]
    }
   ],
   "source": [
    "help(np.linalg.solve)"
   ]
  },
  {
   "cell_type": "markdown",
   "metadata": {
    "slideshow": {
     "slide_type": "subslide"
    }
   },
   "source": [
    "## Soluzione di Sistemi Lineari\n",
    "\n",
    "**Vediamo un esempio di soluzione completa**"
   ]
  },
  {
   "cell_type": "code",
   "execution_count": 10,
   "metadata": {},
   "outputs": [
    {
     "name": "stdout",
     "output_type": "stream",
     "text": [
      "alpha = [-0.25  1.    3.  ]\n"
     ]
    }
   ],
   "source": [
    "import numpy as np\n",
    "\n",
    "x0, x1, x2 = 0, 2, 6\n",
    "y0, y2 = 3, 0\n",
    "\n",
    "A = np.array([[x0**2, x0, 1],\n",
    "              [x2**2, x2, 1],\n",
    "              [2*x1, 1, 0]])\n",
    "\n",
    "b = np.array([y0, y2, 0])\n",
    "\n",
    "alpha = np.linalg.solve(A, b)\n",
    "print(f'alpha = {alpha}')\n",
    "alpha_2, alpha_1, alpha_0 = alpha"
   ]
  },
  {
   "cell_type": "markdown",
   "metadata": {
    "slideshow": {
     "slide_type": "subslide"
    }
   },
   "source": [
    "## Disegnare la Curva\n",
    "\n",
    "**Possiamo poi procedere a disegnare la curva**\n",
    "\n",
    "Iniziamo valutando la nostra curva per un insieme di valori $x$"
   ]
  },
  {
   "cell_type": "code",
   "execution_count": 14,
   "metadata": {},
   "outputs": [
    {
     "name": "stdout",
     "output_type": "stream",
     "text": [
      "x = [0.         0.66666667 1.33333333 2.         2.66666667 3.33333333\n",
      " 4.         4.66666667 5.33333333 6.        ]\n",
      "y = [ 3.00000000e+00  3.55555556e+00  3.88888889e+00  4.00000000e+00\n",
      "  3.88888889e+00  3.55555556e+00  3.00000000e+00  2.22222222e+00\n",
      "  1.22222222e+00 -8.88178420e-16]\n"
     ]
    }
   ],
   "source": [
    "x = np.linspace(x0, x2, 10)\n",
    "y = alpha_2 * x**2 + alpha_1 * x + alpha_0\n",
    "print(f'x = {x}')\n",
    "print(f'y = {y}')"
   ]
  },
  {
   "cell_type": "markdown",
   "metadata": {},
   "source": [
    "* La funzione `numpy.linspace` genera un array di valori equispaziati\n",
    "  - ...Esattamente come la `linspace` che avevamo definito tempo fa\n",
    "* Per calcolare `y` facciamo uso del calcolo vettoriale\n",
    "  - E.g. `x**2` è un array con i quadrati degli elementi in `x`"
   ]
  },
  {
   "cell_type": "markdown",
   "metadata": {
    "slideshow": {
     "slide_type": "subslide"
    }
   },
   "source": [
    "## Disegnare la Curva\n",
    "\n",
    "**Possiamo poi procedere a disegnare la curva**\n",
    "\n",
    "Il grafico vero e proprio possiamo farlo nel solito modo"
   ]
  },
  {
   "cell_type": "code",
   "execution_count": 15,
   "metadata": {},
   "outputs": [
    {
     "data": {
      "image/png": "[encoded data removed]",
      "text/plain": [
       "<Figure size 1440x360 with 1 Axes>"
      ]
     },
     "metadata": {
      "needs_background": "light"
     },
     "output_type": "display_data"
    }
   ],
   "source": [
    "from matplotlib import pyplot as plt\n",
    "\n",
    "plt.figure(figsize=(20, 5))\n",
    "plt.plot(x, y)\n",
    "plt.grid()\n",
    "plt.show()"
   ]
  },
  {
   "cell_type": "markdown",
   "metadata": {
    "slideshow": {
     "slide_type": "subslide"
    }
   },
   "source": [
    "## Uso di un Pacchetto\n",
    "\n",
    "**Includiamo il codice nel paccheto [example.arc](http://127.0.0.1:8888/edit/example/arc.py)**\n",
    "\n",
    "* Una funzione `example.arc.fit_curve` per ottenere i coefficienti\n",
    "* Una funzione  `example.arc.draw_curve` per disegnare la curva"
   ]
  },
  {
   "cell_type": "code",
   "execution_count": 3,
   "metadata": {},
   "outputs": [
    {
     "name": "stdout",
     "output_type": "stream",
     "text": [
      "The autoreload extension is already loaded. To reload it, use:\n",
      "  %reload_ext autoreload\n"
     ]
    },
    {
     "data": {
      "image/png": "[encoded data removed]",
      "text/plain": [
       "<Figure size 1440x360 with 1 Axes>"
      ]
     },
     "metadata": {
      "needs_background": "light"
     },
     "output_type": "display_data"
    }
   ],
   "source": [
    "%load_ext autoreload\n",
    "%autoreload 2\n",
    "from example import arc\n",
    "x0, x1, x2 = 0, 2, 6\n",
    "y0, y2 = 3, 0\n",
    "alpha_2, alpha_1, alpha_0 = arc.fit_curve(x0, x1, x2, y0, y2)\n",
    "arc.draw_curve(alpha_2, alpha_1, alpha_0, x0, x2)"
   ]
  }
 ],
 "metadata": {
  "celltoolbar": "Slideshow",
  "kernelspec": {
   "display_name": "Python 3 (ipykernel)",
   "language": "python",
   "name": "python3"
  },
  "language_info": {
   "codemirror_mode": {
    "name": "ipython",
    "version": 3
   },
   "file_extension": ".py",
   "mimetype": "text/x-python",
   "name": "python",
   "nbconvert_exporter": "python",
   "pygments_lexer": "ipython3",
   "version": "3.9.5"
  },
  "rise": {
   "center": false,
   "enable_chalkboard": true,
   "transition": "fade"
  }
 },
 "nbformat": 4,
 "nbformat_minor": 4
}
